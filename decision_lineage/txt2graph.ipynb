{
 "cells": [
  {
   "cell_type": "code",
   "execution_count": 22,
   "metadata": {},
   "outputs": [],
   "source": [
    "# Import libraries needed\n",
    "import re\n",
    "import pandas as pd\n",
    "\n",
    "\n",
    "PATH_TO_RULES_TXT_FILE = 'section2_test.txt'\n",
    "\n",
    "# Reading the text file and putting every line as element in the rules_list list    \n",
    "with open(PATH_TO_RULES_TXT_FILE) as f:\n",
    "    lines = f.readlines()\n",
    "\n",
    "    rules_list = []\n",
    "\n",
    "    for line in lines:\n",
    "        if line == '\\n':\n",
    "            continue\n",
    "        else:\n",
    "            rules_list.append(line.strip())\n",
    "\n",
    "# There are 2 ids in the text file, one from the bullet numbering and one that the user manually typed in.\n",
    "rules_list_dict = []\n",
    "id_regex = re.compile('\\d+(?:\\.\\d+)*\\s') #<------ Adarsh to add proper regex pattern\n",
    "id_regex_2 = re.compile('xxx') #<------ Adarsh to add proper regex pattern\n",
    "operator_regex = re.compile('AND|OR') #<------ Adarsh to add proper regex pattern\n",
    "\n",
    "for rule in rules_list:\n",
    "    id = re.findall(id_regex, rule)[0]\n",
    "    operator = re.findall(operator_regex, rule)\n",
    "\n",
    "    #Handle case when there are no operators\n",
    "    if operator == []:\n",
    "        operator = ''\n",
    "    else:\n",
    "        operator = operator[0]\n",
    "    \n",
    "    # Parent id is the same as removing last 2 characters of rule_id\n",
    "    parent_id = id[0:-2]\n",
    "\n",
    "    desc = re.sub(id_regex_2, '', re.sub(operator_regex, '', re.sub(id_regex, '', rule))).strip()\n",
    "\n",
    "    rules_list_dict.append({'rule_id':id, 'desc': desc, 'parent_id': parent_id, \"operator\": operator})\n",
    "\n",
    "# Create dataframe from dictionary\n",
    "df = pd.DataFrame(rules_list_dict)\n",
    "\n",
    "\n",
    "# ADARSH to either modify below code to get parent desc or use merge\n",
    "\n",
    "# parent_desc_list = []\n",
    "# for index, row in df.iterrows():\n",
    "#     if row['parent_id'] == '':\n",
    "#         parent_desc_list.append('')\n",
    "#     else:\n",
    "#         pid = row['parent_id']\n",
    "#         # print(pid)\n",
    "#         l = df[df['rule_id'] == pid]['desc'].values[0]\n",
    "#         parent_desc_list.append(l)\n",
    "\n",
    "# df['parent_desc'] = pd.Series(parent_desc_list)\n",
    "\n",
    "\n",
    "df.to_csv('OUTPUT/PATH/HERE')"
   ]
  }
 ],
 "metadata": {
  "kernelspec": {
   "display_name": "Python 3.10.4 ('dhl_env')",
   "language": "python",
   "name": "python3"
  },
  "language_info": {
   "codemirror_mode": {
    "name": "ipython",
    "version": 3
   },
   "file_extension": ".py",
   "mimetype": "text/x-python",
   "name": "python",
   "nbconvert_exporter": "python",
   "pygments_lexer": "ipython3",
   "version": "3.10.4"
  },
  "orig_nbformat": 4,
  "vscode": {
   "interpreter": {
    "hash": "d5461a7d9be0dcd16e46fcf95203a2cb18915e22307089580ebf57ff41765614"
   }
  }
 },
 "nbformat": 4,
 "nbformat_minor": 2
}
